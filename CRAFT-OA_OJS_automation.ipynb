{
 "cells": [
  {
   "cell_type": "code",
   "execution_count": 537,
   "id": "0fdd1a9b-0465-4acb-8c59-7937d3dbf59c",
   "metadata": {},
   "outputs": [],
   "source": [
    "#pliki znajdują się tutaj: https://drive.google.com/drive/folders/1hAwu9fI11cqessZFIVHvILTJGqVXeS0m\n",
    "#uruchomienie instancji OJS\n",
    "#PS C:\\Users\\Cezary> cd D:\\IBL\\OJS\\ojs-3.3.0-16\n",
    "#PS D:\\IBL\\OJS\\ojs-3.3.0-16> php -S localhost:8000"
   ]
  },
  {
   "cell_type": "code",
   "execution_count": 538,
   "id": "5435b4c3-3fd4-41b0-adc5-850f8d29c4fe",
   "metadata": {},
   "outputs": [],
   "source": [
    "import pandas as pd\n",
    "import regex as re\n",
    "import datetime\n",
    "from selenium import webdriver\n",
    "from selenium.webdriver.common.keys import Keys\n",
    "import time\n",
    "from selenium.common.exceptions import NoSuchElementException, ElementNotInteractableException, NoAlertPresentException, SessionNotCreatedException, ElementClickInterceptedException, InvalidArgumentException, StaleElementReferenceException\n",
    "from selenium.webdriver.common.action_chains import ActionChains\n",
    "from selenium.webdriver.common.by import By\n",
    "from selenium.webdriver.support.ui import WebDriverWait\n",
    "from selenium.webdriver.support import expected_conditions as EC\n",
    "import numpy as np\n",
    "from tqdm import tqdm\n",
    "\n",
    "pd.options.display.max_colwidth = 10000"
   ]
  },
  {
   "cell_type": "markdown",
   "id": "743bf4fe-03be-4658-b5e3-c1b135f93033",
   "metadata": {},
   "source": [
    "## Przygotowanie funkcji"
   ]
  },
  {
   "cell_type": "code",
   "execution_count": 539,
   "id": "5f1ca5dc-f018-4703-871c-78744c611aea",
   "metadata": {},
   "outputs": [],
   "source": [
    "def jest_autor(x):\n",
    "    try:\n",
    "        re.findall('(, \\p{Lu})|(^-+|^—+|^–+)', x)[0]\n",
    "        val = x\n",
    "    except IndexError:\n",
    "        val = ''\n",
    "    return val\n",
    "\n",
    "def build_author(x):\n",
    "    try:\n",
    "        return re.findall('(^.+?)(?=\\. \\„.+$)', x)[0]\n",
    "    except IndexError:\n",
    "        return re.sub('(^.+?)(-|–|—|\\p{Ll}\\.\\)|\\p{Ll})(\\..+$)', r'\\1\\2', x)\n",
    "    \n",
    "def abstrakt_bio(x):\n",
    "    x = x.split('\\n')\n",
    "    x = '\\n'.join([f'''<span style=\"font-family: 'Chaparral Pro', serif; color: black;\">{e}</span>''' for e in x])\n",
    "    return x\n",
    "\n",
    "def biblio_pozycja(x):\n",
    "    try:\n",
    "        return re.sub(f\"{x['autor pozycji']}.\", '', x['bibliografia']).strip()\n",
    "    except:\n",
    "        return ''"
   ]
  },
  {
   "cell_type": "code",
   "execution_count": 540,
   "id": "6129e8e7-55b5-4ecf-a0d4-a5e0750a67c4",
   "metadata": {},
   "outputs": [],
   "source": [
    "#data\n",
    "now = datetime.datetime.now()\n",
    "year = now.year\n",
    "month = '{:02d}'.format(now.month)\n",
    "day = '{:02d}'.format(now.day)"
   ]
  },
  {
   "cell_type": "code",
   "execution_count": 541,
   "id": "14b699dc-8688-4b24-bcc3-7b98aec66ad8",
   "metadata": {},
   "outputs": [],
   "source": [
    "#browser\n",
    "browser = webdriver.Firefox() "
   ]
  },
  {
   "cell_type": "code",
   "execution_count": 542,
   "id": "365c3520-204b-4dac-acae-a51d4891aa93",
   "metadata": {},
   "outputs": [],
   "source": [
    "aktualny_numer = pd.read_excel('OJS_test/FP33-34.xlsx', sheet_name='artykuły po pętli')\n",
    "aktualny_numer = aktualny_numer[aktualny_numer['język'] == 'pl']\n",
    "strona_numeru = pd.read_excel('OJS_test/FP33-34.xlsx', sheet_name='strona po pętli')\n",
    "strona_numeru = strona_numeru[strona_numeru['język'] == 'pl']"
   ]
  },
  {
   "cell_type": "code",
   "execution_count": 543,
   "id": "aa4f12f6-e21d-4435-83bb-efa31f60c091",
   "metadata": {},
   "outputs": [
    {
     "data": {
      "text/html": [
       "<div>\n",
       "<style scoped>\n",
       "    .dataframe tbody tr th:only-of-type {\n",
       "        vertical-align: middle;\n",
       "    }\n",
       "\n",
       "    .dataframe tbody tr th {\n",
       "        vertical-align: top;\n",
       "    }\n",
       "\n",
       "    .dataframe thead th {\n",
       "        text-align: right;\n",
       "    }\n",
       "</style>\n",
       "<table border=\"1\" class=\"dataframe\">\n",
       "  <thead>\n",
       "    <tr style=\"text-align: right;\">\n",
       "      <th></th>\n",
       "      <th>lp</th>\n",
       "      <th>autor</th>\n",
       "      <th>ORCID</th>\n",
       "      <th>tytuł artykułu</th>\n",
       "      <th>kategoria</th>\n",
       "      <th>język</th>\n",
       "      <th>tytuł numeru</th>\n",
       "      <th>tag numeru</th>\n",
       "      <th>słowa kluczowe</th>\n",
       "      <th>afiliacja</th>\n",
       "      <th>...</th>\n",
       "      <th>tłumacz</th>\n",
       "      <th>finansowanie</th>\n",
       "      <th>tag autora</th>\n",
       "      <th>link do pdf</th>\n",
       "      <th>link do jpg</th>\n",
       "      <th>pdf</th>\n",
       "      <th>jpg</th>\n",
       "      <th>odnosnik</th>\n",
       "      <th>url_edycji</th>\n",
       "      <th>spis treści</th>\n",
       "    </tr>\n",
       "  </thead>\n",
       "  <tbody>\n",
       "    <tr>\n",
       "      <th>0</th>\n",
       "      <td>1</td>\n",
       "      <td>Marta Rakoczy</td>\n",
       "      <td>0000-0002-7967-2939</td>\n",
       "      <td>„Najlepsza książka mówiona”. Wat, głos, awangarda i „świadectwa” Europy Środkowo-Wschodniej</td>\n",
       "      <td>Teorie</td>\n",
       "      <td>pl</td>\n",
       "      <td>Forum Poetyki | lato-jesień 2023</td>\n",
       "      <td>lato-jesień 2023</td>\n",
       "      <td>Aleksander Wat, Czesław Miłosz, pamiętnik mówiony, głos, historia mówiona, gatunki, twórczość słownej, Europa Środkowo-Wschodnia</td>\n",
       "      <td>University of Warsaw</td>\n",
       "      <td>...</td>\n",
       "      <td>NaN</td>\n",
       "      <td>NaN</td>\n",
       "      <td>marta-rakoczy</td>\n",
       "      <td>http://fp.amu.edu.pl/wp-content/uploads/2024/02/MRakoczy_NajlepszaKsiazkaMowiona_ForumPoetyki_33-34_2023.pdf</td>\n",
       "      <td>http://fp.amu.edu.pl/wp-content/uploads/2024/02/MRakoczy_NajlepszaKsiazkaMowiona_ForumPoetyki_33-34_2023-01.jpg</td>\n",
       "      <td>MRakoczy_NajlepszaKsiazkaMowiona_ForumPoetyki_33-34_2023.pdf</td>\n",
       "      <td>MRakoczy_NajlepszaKsiazkaMowiona_ForumPoetyki_33-34_2023-01.jpg</td>\n",
       "      <td>najlepsza-ksiazka-mowiona-wat-glos-awangarda-i-swiadectwa-europy-srodkowo-wschodniej</td>\n",
       "      <td>http://fp.amu.edu.pl/wp-admin/post.php?post=7379&amp;action=edit</td>\n",
       "      <td>&lt;p style=\"text-align: left; margin: 0cm 0cm 15pt; line-height: 15pt; font-size: 11pt; font-family: ChaparralPro-Regular; color: black; letter-spacing: 0.1pt; padding-left: 30px;\" align=\"left\"&gt;&lt;a href=\"najlepsza-ksiazka-mowiona-wat-glos-awangarda-i-swiadectwa-europy-srodkowo-wschodniej\"&gt;Marta Rakoczy, &lt;em&gt;„Najlepsza książka mówiona”. Wat, głos, awangarda i „świadectwa” Europy Środkowo-Wschodniej&lt;/em&gt;&lt;/a&gt;&lt;/p&gt;</td>\n",
       "    </tr>\n",
       "    <tr>\n",
       "      <th>2</th>\n",
       "      <td>3</td>\n",
       "      <td>Marta Baron-Milian</td>\n",
       "      <td>0000-0002-5430-4339</td>\n",
       "      <td>Awangarda naprawdę! Biograficzne eksperymenty Sterna z Apollinaire’em</td>\n",
       "      <td>Teorie</td>\n",
       "      <td>pl</td>\n",
       "      <td>Forum Poetyki | lato-jesień 2023</td>\n",
       "      <td>lato-jesień 2023</td>\n",
       "      <td>awangarda, life writing, biografia, archiwum, Anatol Stern, Guillaume Apollinair\\n</td>\n",
       "      <td>University of Silesia</td>\n",
       "      <td>...</td>\n",
       "      <td>NaN</td>\n",
       "      <td>Działania badawcze wsparte ze środków przyznanych w ramach programu Inicjatywa Doskonałości Badawczej Uniwersytetu Śląskiego w Katowicach.</td>\n",
       "      <td>marta-baron-milian</td>\n",
       "      <td>http://fp.amu.edu.pl/wp-content/uploads/2024/02/MBaronMilian_AwangardaNaprawde_ForumPoetyki_33-34_2023.pdf</td>\n",
       "      <td>http://fp.amu.edu.pl/wp-content/uploads/2024/02/MBaronMilian_AwangardaNaprawde_ForumPoetyki_33-34_2023-01.jpg</td>\n",
       "      <td>MBaronMilian_AwangardaNaprawde_ForumPoetyki_33-34_2023.pdf</td>\n",
       "      <td>MBaronMilian_AwangardaNaprawde_ForumPoetyki_33-34_2023-01.jpg</td>\n",
       "      <td>awangarda-naprawde-biograficzne-eksperymenty-sterna-z-apollinaireem</td>\n",
       "      <td>http://fp.amu.edu.pl/wp-admin/post.php?post=7385&amp;action=edit</td>\n",
       "      <td>&lt;p style=\"text-align: left; margin: 0cm 0cm 15pt; line-height: 15pt; font-size: 11pt; font-family: ChaparralPro-Regular; color: black; letter-spacing: 0.1pt; padding-left: 30px;\" align=\"left\"&gt;&lt;a href=\"awangarda-naprawde-biograficzne-eksperymenty-sterna-z-apollinaireem\"&gt;Marta Baron-Milian, &lt;em&gt;Awangarda naprawdę! Biograficzne eksperymenty Sterna z Apollinaire’em&lt;/em&gt;&lt;/a&gt;&lt;/p&gt;</td>\n",
       "    </tr>\n",
       "  </tbody>\n",
       "</table>\n",
       "<p>2 rows × 22 columns</p>\n",
       "</div>"
      ],
      "text/plain": [
       "   lp               autor                ORCID  \\\n",
       "0   1       Marta Rakoczy  0000-0002-7967-2939   \n",
       "2   3  Marta Baron-Milian  0000-0002-5430-4339   \n",
       "\n",
       "                                                                                tytuł artykułu  \\\n",
       "0  „Najlepsza książka mówiona”. Wat, głos, awangarda i „świadectwa” Europy Środkowo-Wschodniej   \n",
       "2                        Awangarda naprawdę! Biograficzne eksperymenty Sterna z Apollinaire’em   \n",
       "\n",
       "  kategoria język                      tytuł numeru        tag numeru  \\\n",
       "0    Teorie    pl  Forum Poetyki | lato-jesień 2023  lato-jesień 2023   \n",
       "2    Teorie    pl  Forum Poetyki | lato-jesień 2023  lato-jesień 2023   \n",
       "\n",
       "                                                                                                                     słowa kluczowe  \\\n",
       "0  Aleksander Wat, Czesław Miłosz, pamiętnik mówiony, głos, historia mówiona, gatunki, twórczość słownej, Europa Środkowo-Wschodnia   \n",
       "2                                                awangarda, life writing, biografia, archiwum, Anatol Stern, Guillaume Apollinair\\n   \n",
       "\n",
       "               afiliacja  ... tłumacz  \\\n",
       "0   University of Warsaw  ...     NaN   \n",
       "2  University of Silesia  ...     NaN   \n",
       "\n",
       "                                                                                                                                  finansowanie  \\\n",
       "0                                                                                                                                          NaN   \n",
       "2  Działania badawcze wsparte ze środków przyznanych w ramach programu Inicjatywa Doskonałości Badawczej Uniwersytetu Śląskiego w Katowicach.    \n",
       "\n",
       "           tag autora  \\\n",
       "0       marta-rakoczy   \n",
       "2  marta-baron-milian   \n",
       "\n",
       "                                                                                                    link do pdf  \\\n",
       "0  http://fp.amu.edu.pl/wp-content/uploads/2024/02/MRakoczy_NajlepszaKsiazkaMowiona_ForumPoetyki_33-34_2023.pdf   \n",
       "2    http://fp.amu.edu.pl/wp-content/uploads/2024/02/MBaronMilian_AwangardaNaprawde_ForumPoetyki_33-34_2023.pdf   \n",
       "\n",
       "                                                                                                       link do jpg  \\\n",
       "0  http://fp.amu.edu.pl/wp-content/uploads/2024/02/MRakoczy_NajlepszaKsiazkaMowiona_ForumPoetyki_33-34_2023-01.jpg   \n",
       "2    http://fp.amu.edu.pl/wp-content/uploads/2024/02/MBaronMilian_AwangardaNaprawde_ForumPoetyki_33-34_2023-01.jpg   \n",
       "\n",
       "                                                            pdf  \\\n",
       "0  MRakoczy_NajlepszaKsiazkaMowiona_ForumPoetyki_33-34_2023.pdf   \n",
       "2    MBaronMilian_AwangardaNaprawde_ForumPoetyki_33-34_2023.pdf   \n",
       "\n",
       "                                                               jpg  \\\n",
       "0  MRakoczy_NajlepszaKsiazkaMowiona_ForumPoetyki_33-34_2023-01.jpg   \n",
       "2    MBaronMilian_AwangardaNaprawde_ForumPoetyki_33-34_2023-01.jpg   \n",
       "\n",
       "                                                                               odnosnik  \\\n",
       "0  najlepsza-ksiazka-mowiona-wat-glos-awangarda-i-swiadectwa-europy-srodkowo-wschodniej   \n",
       "2                   awangarda-naprawde-biograficzne-eksperymenty-sterna-z-apollinaireem   \n",
       "\n",
       "                                                     url_edycji  \\\n",
       "0  http://fp.amu.edu.pl/wp-admin/post.php?post=7379&action=edit   \n",
       "2  http://fp.amu.edu.pl/wp-admin/post.php?post=7385&action=edit   \n",
       "\n",
       "                                                                                                                                                                                                                                                                                                                                                                                                                  spis treści  \n",
       "0  <p style=\"text-align: left; margin: 0cm 0cm 15pt; line-height: 15pt; font-size: 11pt; font-family: ChaparralPro-Regular; color: black; letter-spacing: 0.1pt; padding-left: 30px;\" align=\"left\"><a href=\"najlepsza-ksiazka-mowiona-wat-glos-awangarda-i-swiadectwa-europy-srodkowo-wschodniej\">Marta Rakoczy, <em>„Najlepsza książka mówiona”. Wat, głos, awangarda i „świadectwa” Europy Środkowo-Wschodniej</em></a></p>  \n",
       "2                                    <p style=\"text-align: left; margin: 0cm 0cm 15pt; line-height: 15pt; font-size: 11pt; font-family: ChaparralPro-Regular; color: black; letter-spacing: 0.1pt; padding-left: 30px;\" align=\"left\"><a href=\"awangarda-naprawde-biograficzne-eksperymenty-sterna-z-apollinaireem\">Marta Baron-Milian, <em>Awangarda naprawdę! Biograficzne eksperymenty Sterna z Apollinaire’em</em></a></p>  \n",
       "\n",
       "[2 rows x 22 columns]"
      ]
     },
     "execution_count": 543,
     "metadata": {},
     "output_type": "execute_result"
    }
   ],
   "source": [
    "aktualny_numer.drop(columns=['bibliografia', 'abstrakt', 'biogram']).head(2)"
   ]
  },
  {
   "cell_type": "markdown",
   "id": "86b39d5d-56c1-4ba8-aa17-ee05a49f1911",
   "metadata": {},
   "source": [
    "## OJS -- logowanie"
   ]
  },
  {
   "cell_type": "code",
   "execution_count": 544,
   "id": "3a741646-0ca9-4346-9543-0eebcc240761",
   "metadata": {},
   "outputs": [],
   "source": [
    "browser.get(\"http://localhost:8000/index.php/test_journal/login\")\n",
    "browser.implicitly_wait(5)\n",
    "username_input = browser.find_element('id', 'username')\n",
    "password_input = browser.find_element('id', 'password')\n",
    "\n",
    "username = 'admin'\n",
    "password = 'admin'\n",
    "\n",
    "username_input.clear()\n",
    "username_input.send_keys(username)\n",
    "password_input.send_keys(password)\n",
    "\n",
    "login_button = browser.find_element('css selector', '.submit').click()"
   ]
  },
  {
   "cell_type": "markdown",
   "id": "a9afcf85-06fa-4edf-804c-78966b3e5a1a",
   "metadata": {},
   "source": [
    "## OJS -- dodawanie numeru"
   ]
  },
  {
   "cell_type": "code",
   "execution_count": 545,
   "id": "a6b89840-a9cd-49ad-85db-0b18cfcb12f6",
   "metadata": {},
   "outputs": [
    {
     "name": "stdout",
     "output_type": "stream",
     "text": [
      "Done\n"
     ]
    }
   ],
   "source": [
    "browser.get(\"http://localhost:8000/index.php/test_journal/manageIssues\")\n",
    "create_issue = browser.find_element('css selector', '.pkp_linkaction_icon_add_category')\n",
    "create_issue.click()\n",
    "\n",
    "time.sleep(1)\n",
    "odznacz_tom = browser.find_element('id', 'showVolume').click()\n",
    "    \n",
    "wprowadz_numer = browser.find_element('xpath', \"//input[@name='number']\")\n",
    "try:\n",
    "    wprowadz_numer.send_keys('{:.0f}'.format(strona_numeru.at[0, 'numer']))\n",
    "except ValueError:\n",
    "    wprowadz_numer.send_keys(strona_numeru.at[0, 'numer'])\n",
    "rok = browser.find_element('xpath', \"//input[@name='year']\")\n",
    "rok.send_keys('{:.0f}'.format(strona_numeru.at[0, 'rok']))\n",
    "tytul_pl = re.sub('(.+)( \\| )(.+)', r'\\3', strona_numeru.at[0, 'tytuł numeru']).strip()\n",
    "\n",
    "try:\n",
    "    nazwa_numeru = f\"No. {'{:.0f}'.format(strona_numeru.at[0, 'numer'])} ({'{:.0f}'.format(strona_numeru.at[0, 'rok'])}): {tytul_pl}\"\n",
    "except ValueError:\n",
    "    nazwa_numeru = f\"No. {strona_numeru.at[0, 'numer']} ({'{:.0f}'.format(strona_numeru.at[0, 'rok'])}): {tytul_pl}\"\n",
    "\n",
    "tytul = browser.find_element('xpath', \"//input[@name='title[en_US]']\").send_keys(tytul_pl)\n",
    "\n",
    "wstep_source = browser.find_elements('xpath', \"//i[@class='mce-ico mce-i-code']\")[0]\n",
    "wstep_source.click()\n",
    "wstep_source = browser.find_element('xpath', \"//textarea[@class='mce-textbox mce-multiline mce-abs-layout-item mce-first mce-last']\")\n",
    "wstep_source.send_keys(strona_numeru.at[0, 'wstęp'])\n",
    "wstep_ok = browser.find_element('xpath', \"//span[contains(text(),'Ok')]\")\n",
    "wstep_ok.click()\n",
    "\n",
    "okladka_na_dysku = f\"{strona_numeru.at[0, 'folder lokalny']}\\{strona_numeru.at[0, 'jpg']}\"\n",
    "przeslij_okladke = browser.find_element('xpath', \"//input[@type='file']\")\n",
    "przeslij_okladke.send_keys(okladka_na_dysku)\n",
    "time.sleep(2)\n",
    "\n",
    "zapisz_numer = browser.find_element('xpath', \"//button[@name='submitFormButton']\")\n",
    "zapisz_numer.click()\n",
    "print('Done')"
   ]
  },
  {
   "cell_type": "markdown",
   "id": "e2e7a3f2-c94e-4299-beb3-d2c325c97daa",
   "metadata": {},
   "source": [
    "## OJS -- dodawanie artykułów"
   ]
  },
  {
   "cell_type": "code",
   "execution_count": 546,
   "id": "ee07823d-24d5-43f8-92a1-89b1df23cf39",
   "metadata": {},
   "outputs": [
    {
     "name": "stderr",
     "output_type": "stream",
     "text": [
      "100%|██████████████████████████████████████████████████████████████████████████████████| 10/10 [05:22<00:00, 32.22s/it]"
     ]
    },
    {
     "name": "stdout",
     "output_type": "stream",
     "text": [
      "Done\n"
     ]
    },
    {
     "name": "stderr",
     "output_type": "stream",
     "text": [
      "\n"
     ]
    }
   ],
   "source": [
    "for i, row in tqdm(aktualny_numer.iterrows(), total=aktualny_numer.shape[0]):\n",
    "    nowe_zgloszenie = browser.get('http://localhost:8000/index.php/test_journal/management/importexport/plugin/QuickSubmitPlugin ')\n",
    "    dzial_fp = row['kategoria']\n",
    "    dzial = browser.find_element('xpath', f\"//select[@id = 'sectionId']/option[text()='Articles']\")\n",
    "    dzial.click()\n",
    "    time.sleep(1)\n",
    "    tytul_art = row['tytuł artykułu'].replace('<i>', '').replace('</i>', '')\n",
    "    tytul_art_ojs = browser.find_element('xpath', \"//input[@name='title[en_US]']\")\n",
    "    tytul_art_ojs.send_keys(tytul_art)\n",
    "    \n",
    "    abstrakt_source = browser.find_elements('xpath', \"//i[@class='mce-ico mce-i-code']\")[0]\n",
    "    abstrakt_source.click()\n",
    "    abstrakt_source = browser.find_element('xpath', \"//textarea[@class='mce-textbox mce-multiline mce-abs-layout-item mce-first mce-last']\")\n",
    "    abstrakt_source.send_keys(row['abstrakt'])\n",
    "    abstrakt_ok = browser.find_elements('xpath', \"//span[contains(text(),'Ok')]\")[-1]\n",
    "    abstrakt_ok.click()\n",
    "    \n",
    "    for s in row['słowa kluczowe'].split(', '):\n",
    "        s = re.sub(',+', ',', s)\n",
    "        slowa_kluczowe = browser.find_elements('xpath', \"//input[@class='ui-widget-content ui-autocomplete-input']\")[0]\n",
    "        slowa_kluczowe.send_keys(s, Keys.TAB)\n",
    "    \n",
    "    if isinstance(row['finansowanie'], str):\n",
    "        finansowanie = browser.find_elements('xpath', \"//input[@class='ui-widget-content ui-autocomplete-input']\")[1]\n",
    "        finansowanie.send_keys(row['finansowanie'])\n",
    "    \n",
    "    if len(row['bibliografia']) > 0:\n",
    "        bibliografia_df = pd.DataFrame(row['bibliografia'].split('\\n'), columns=['bibliografia'])\n",
    "        bibliografia_df = bibliografia_df[bibliografia_df['bibliografia'] != '']       \n",
    "        \n",
    "        bibliografia_df['autor pozycji'] = bibliografia_df['bibliografia'].apply(lambda x: build_author(x))\n",
    "        bibliografia_df['autor pozycji'] = bibliografia_df['autor pozycji'].apply(lambda x: jest_autor(x))\n",
    "        bibliografia_df['ile małych'] = bibliografia_df['autor pozycji'].apply(lambda x: len(re.findall(' \\p{Ll}', x)))\n",
    "        bibliografia_df['ile słów'] = bibliografia_df['autor pozycji'].apply(lambda x: len(x.split(' ')))\n",
    "        bibliografia_df['odsetek małych'] = bibliografia_df['ile małych'] / bibliografia_df['ile słów']\n",
    "        bibliografia_df['autor pozycji'] = bibliografia_df.apply(lambda x: re.sub('(^.+)(\\..+$)', r'\\1', x['autor pozycji']) if x['odsetek małych'] >= 0.3 else x['autor pozycji'], axis=1)\n",
    "        \n",
    "        bibliografia_df['autor pozycji'] = bibliografia_df['autor pozycji'].replace('---|- - - |–––|– – –|———|— — —', np.nan, regex=True).ffill()\n",
    "        \n",
    "        bibliografia_df['pozycja'] = bibliografia_df.apply(lambda x: biblio_pozycja(x), axis=1)  \n",
    "        bibliografia_df['pozycja'] = bibliografia_df.apply(lambda x: x['bibliografia'] if x['pozycja'] == '' else x['pozycja'], axis=1)\n",
    "        bibliografia_df['pozycja'] = bibliografia_df['pozycja'].str.replace('[- ]{2,}|[— ]{2,}|[— ]{2,}|[– ]{2,}', '', regex=True)\n",
    "        bibliografia_df['id'] = bibliografia_df.index+1\n",
    "        bibliografia_df['id'] = bibliografia_df['id']\n",
    "        bibliografia_df = bibliografia_df.replace(r'^\\s*$', np.nan, regex=True)\n",
    "        bibliografia_df['bibliografia'] =  bibliografia_df[['autor pozycji', 'pozycja']].apply(lambda x: '. '.join(x.dropna().astype(str)).strip(), axis=1)\n",
    "        bibliografia_df = bibliografia_df['bibliografia']\n",
    "        bibliografia_df = '\\n'.join(bibliografia_df.str.replace('(\\. )+', '. ', regex=True).to_list())\n",
    "        \n",
    "        bibliografia = browser.find_element('name', 'citationsRaw')\n",
    "        bibliografia.send_keys(bibliografia_df, Keys.BACK_SPACE)\n",
    "    \n",
    "    for a, o, af, b in zip(row['autor'].split('❦'), row['ORCID'].split('❦'), row['afiliacja'].split('❦'), row['biogram'].split('❦')):\n",
    "        wspolautor_dodaj = browser.find_element('xpath', \"//a[contains(text(),'Add Contributor')]\")\n",
    "        wspolautor_dodaj.click()\n",
    "        autor_imie = re.findall('.+(?= (?!.* ))', a)[0]\n",
    "        time.sleep(2)\n",
    "        wprowadz_imie = browser.find_element('name', 'givenName[en_US]')\n",
    "        wprowadz_imie.send_keys(autor_imie)\n",
    "        \n",
    "        autor_nazwisko = re.findall('(?<= (?!.* )).+', a)[0]\n",
    "        wprowadz_nazwisko = browser.find_element('name', 'familyName[en_US]')\n",
    "        wprowadz_nazwisko.send_keys(autor_nazwisko)\n",
    "       \n",
    "        kontakt = browser.find_element('name', 'email')\n",
    "        kontakt.send_keys('admin@admin.pl')\n",
    "        \n",
    "        kraj = browser.find_element('xpath', \"//select[@id = 'country']/option[text()='Poland']\").click()\n",
    "        if len(o) > 0:\n",
    "            orcid = f\"https://orcid.org/{o}\"\n",
    "            wprowadz_orcid = browser.find_element('name', 'orcid').send_keys(orcid)\n",
    "        \n",
    "        afiliacja = browser.find_elements('name', \"affiliation[en_US]\")[-1]\n",
    "        afiliacja.send_keys(af, Keys.TAB)\n",
    "        afiliacja.send_keys(Keys.DOWN)\n",
    "    \n",
    "        time.sleep(2)\n",
    "        \n",
    "        biogram = browser.find_elements('xpath', \"//i[@class='mce-ico mce-i-code']\")[-1]\n",
    "        biogram.click()\n",
    "        biogram = browser.find_element('xpath', \"//textarea[@class='mce-textbox mce-multiline mce-abs-layout-item mce-first mce-last']\")\n",
    "        biogram.send_keys(b)\n",
    "        \n",
    "        biogram_ok = browser.find_elements('xpath', \"//span[contains(text(),'Ok')]\")[-1]\n",
    "        biogram_ok.click()\n",
    "        time.sleep(2)\n",
    "    \n",
    "        kliknij_poza_biogram = browser.find_element('name', 'orcid').click()\n",
    "        rola_autora = browser.find_element('xpath', \"//input[@name='userGroupId' and @value='14']\").click()\n",
    "        zapisz_autora = browser.find_elements('xpath', \"//button[@class = 'pkp_button submitFormButton']\")[-1].click()\n",
    "        time.sleep(2)\n",
    "    \n",
    "    dodaj_plik = browser.find_element('xpath', \"//a[contains(text(),'Add galley')]\")\n",
    "    dodaj_plik.click()\n",
    "    time.sleep(2)\n",
    "    etykieta = browser.find_element('xpath', \"//input[@class='field text required' and @name = 'label']\")\n",
    "    etykieta.send_keys('PDF')\n",
    "    jezyk_publikacji = browser.find_element('xpath', \"//select[@id = 'galleyLocale']/option[text()='English']\")\n",
    "    jezyk_publikacji.click()\n",
    "    \n",
    "    zapisz = browser.find_elements('xpath', \"//button[@name='submitFormButton']\")\n",
    "    zapisz[-1].click()\n",
    "    time.sleep(2)\n",
    "    \n",
    "    element_artykulu = browser.find_element('xpath', \"//select[@id = 'genreId']/option[text()='Article Text']\")\n",
    "    element_artykulu.click()\n",
    "    przeslij_pdf = browser.find_element('xpath', \"//input[@type='file']\")\n",
    "    przeslij_pdf.send_keys(f\"{row['folder lokalny']}\\\\{row['pdf']}\")\n",
    "    time.sleep(2)\n",
    "    kontunuuj_button = browser.find_element('id', 'continueButton').click()\n",
    "    time.sleep(2)\n",
    "    kontunuuj_button = browser.find_element('id', 'continueButton').click()\n",
    "    time.sleep(2)\n",
    "    potwierdz_button = browser.find_element('id', 'continueButton').click()\n",
    "    time.sleep(2)\n",
    "    \n",
    "    while True:\n",
    "        try:\n",
    "            zaplanuj_do_publikacji = browser.find_element('id', 'articlePublished').click()\n",
    "            time.sleep(2)\n",
    "        except ElementClickInterceptedException:\n",
    "            potwierdz_button = browser.find_element('id', 'continueButton').click()\n",
    "            time.sleep(2)\n",
    "            continue\n",
    "        break\n",
    "    \n",
    "    publikuj_w = browser.find_element('xpath', f\"//select[@id = 'issueId']/option[text()='{nazwa_numeru}']\")\n",
    "    publikuj_w.click()\n",
    "    publikuj_strony = browser.find_element('name', 'pages')\n",
    "    publikuj_strony.send_keys(row['strony'])\n",
    "    \n",
    "    opublikowany_data = browser.find_element('name', 'datePublished-removed')\n",
    "    opublikowany_data.send_keys(f\"{year}-{month}-{day}\",Keys.ESCAPE)\n",
    "    prawa_autorskie = browser.find_element('name', 'copyrightHolder[en_US]')\n",
    "    prawa_autorskie.send_keys(row['autor'].replace('❦', ', '))\n",
    "    time.sleep(2)\n",
    "    rok_praw = browser.find_element('name', 'copyrightYear')\n",
    "    rok_praw.send_keys(year)        \n",
    "    \n",
    "    zapisz = browser.find_elements('xpath', \"//button[@class='pkp_button submitFormButton']\")\n",
    "    zapisz[-1].click()\n",
    "print('Done')"
   ]
  },
  {
   "cell_type": "markdown",
   "id": "4b9fcd88-0146-47c4-a0b7-a639b53dcb2a",
   "metadata": {},
   "source": [
    "## OJS -- publikacja numeru"
   ]
  },
  {
   "cell_type": "code",
   "execution_count": 547,
   "id": "56417308-6c78-41b0-a6b9-103d36192d30",
   "metadata": {},
   "outputs": [
    {
     "name": "stdout",
     "output_type": "stream",
     "text": [
      "Numer opublikowany\n"
     ]
    }
   ],
   "source": [
    "browser.get('http://localhost:8000/index.php/test_journal/manageIssues')\n",
    "extras = browser.find_element('xpath', \"//a[@class='show_extras']\")\n",
    "extras.click()\n",
    "publish_issue = browser.find_element('xpath', \"//a[contains(text(),'Publish Issue')]\")\n",
    "publish_issue.click()\n",
    "send_email = browser.find_element('xpath', \"//input[@id='sendIssueNotification']\")\n",
    "send_email.click()\n",
    "save_and_edit = browser.find_elements('name', 'submitFormButton')[-1]\n",
    "save_and_edit.click()\n",
    "browser.close()\n",
    "print('Numer opublikowany')"
   ]
  },
  {
   "cell_type": "markdown",
   "id": "590c7596-fe42-4d10-9b95-647079c5315c",
   "metadata": {},
   "source": [
    "## OJS -- odrzucanie zgłoszeń"
   ]
  },
  {
   "cell_type": "code",
   "execution_count": 548,
   "id": "13b29bb2-5d1d-48af-b517-f03f956d3bae",
   "metadata": {},
   "outputs": [],
   "source": [
    "browser = webdriver.Firefox()\n",
    "browser.get(\"http://localhost:8000/index.php/test_journal/login\")\n",
    "browser.implicitly_wait(5)\n",
    "username_input = browser.find_element('id', 'username')\n",
    "password_input = browser.find_element('id', 'password')\n",
    "\n",
    "username = 'admin'\n",
    "password = 'admin'\n",
    "\n",
    "username_input.clear()\n",
    "username_input.send_keys(username)\n",
    "password_input.send_keys(password)\n",
    "\n",
    "login_button = browser.find_element('css selector', '.submit').click()"
   ]
  },
  {
   "cell_type": "code",
   "execution_count": 549,
   "id": "e652ad68-0eef-4a4a-af96-130f9fcb8f38",
   "metadata": {},
   "outputs": [],
   "source": [
    "browser.get('http://localhost:8000/index.php/test_journal/submissions')\n",
    "submissions = browser.find_elements('xpath', \"//a[@class = 'pkpButton']\")\n",
    "submissions = [e for e in submissions if e.get_attribute('href')[-1].isnumeric()]"
   ]
  },
  {
   "cell_type": "code",
   "execution_count": 550,
   "id": "2d032966-3119-4fdf-9e3e-109b4ecb0177",
   "metadata": {},
   "outputs": [
    {
     "name": "stdout",
     "output_type": "stream",
     "text": [
      "Done\n"
     ]
    }
   ],
   "source": [
    "while submissions:\n",
    "    submission_urls = []\n",
    "    for submission in submissions:\n",
    "        submission_urls.append(submission.get_attribute('href'))\n",
    "    for url in tqdm(submission_urls):\n",
    "        if 'wizard/' in url:  \n",
    "            browser.get(url)\n",
    "            try:\n",
    "                checkboxes = browser.find_elements('xpath', \"//input[@type = 'checkbox']\")\n",
    "                time.sleep(1)\n",
    "                for checkbox in checkboxes:\n",
    "                    checkbox.click()\n",
    "                save_and_edit = browser.find_elements('name', 'submitFormButton')[-1]\n",
    "                save_and_edit.click()\n",
    "                time.sleep(2)\n",
    "            except: pass\n",
    "        \n",
    "            try:\n",
    "                save_and_edit = browser.find_elements('name', 'submitFormButton')[-1]\n",
    "                save_and_edit.click()\n",
    "            except: pass\n",
    "        \n",
    "            try:\n",
    "                time.sleep(2)\n",
    "                tytul_art = 'test'\n",
    "                tytul_art_ojs = browser.find_element('xpath', \"//input[@name='title[en_US]']\")\n",
    "                tytul_art_ojs.send_keys(tytul_art)\n",
    "                \n",
    "                abstrakt_source = browser.find_elements('xpath', \"//i[@class='mce-ico mce-i-code']\")[-1]\n",
    "                abstrakt_source.click()\n",
    "                abstrakt_source = browser.find_element('xpath', \"//textarea[@class='mce-textbox mce-multiline mce-abs-layout-item mce-first mce-last']\")\n",
    "                abstrakt_source.send_keys('test')\n",
    "                abstrakt_ok = browser.find_elements('xpath', \"//span[contains(text(),'Ok')]\")[-1]\n",
    "                abstrakt_ok.click()\n",
    "                \n",
    "                wspolautor_dodaj = browser.find_element('xpath', \"//a[contains(text(),'Add Contributor')]\")\n",
    "                wspolautor_dodaj.click()\n",
    "                autor_imie = 'test'\n",
    "                time.sleep(2)\n",
    "                wprowadz_imie = browser.find_element('name', 'givenName[en_US]')\n",
    "                wprowadz_imie.send_keys(autor_imie)\n",
    "                   \n",
    "                kontakt = browser.find_element('name', 'email')\n",
    "                kontakt.send_keys('admin@admin.pl')\n",
    "                \n",
    "                kraj = browser.find_element('xpath', \"//select[@id = 'country']/option[text()='Poland']\")\n",
    "                kraj.click()\n",
    "                \n",
    "                rola_autora = browser.find_elements('xpath', \"//input[@name='userGroupId' and @value='14']\")[-1]\n",
    "                rola_autora.click()\n",
    "                zapisz_autora = browser.find_elements('xpath', \"//button[@class = 'pkp_button submitFormButton']\")[-1].click()\n",
    "                time.sleep(2)\n",
    "            except: pass\n",
    "            \n",
    "            try:\n",
    "                zapisz = browser.find_elements('xpath', \"//button[@name='submitFormButton']\")\n",
    "                zapisz[-1].click()\n",
    "                time.sleep(2)\n",
    "            except: pass\n",
    "        \n",
    "            try:\n",
    "                zapisz = browser.find_elements('xpath', \"//button[@name='submitFormButton']\")\n",
    "                zapisz[-1].click()\n",
    "                time.sleep(2)\n",
    "            except: pass\n",
    "        \n",
    "            try:\n",
    "                finish_submission = browser.find_element('xpath', \"//button[@class='ok pkpModalConfirmButton']\")\n",
    "                finish_submission.click()\n",
    "                time.sleep(1)\n",
    "            except: pass\n",
    "                \n",
    "        elif 'workflow/' in url:\n",
    "            try:\n",
    "                browser.get(url)\n",
    "                decline = browser.find_element('xpath', \"//a[contains(text(),'Decline Submission')]\")\n",
    "                decline.click()\n",
    "                skip_email = browser.find_element('xpath', \"//input[@name='skipEmail' and @value='1']\")\n",
    "                skip_email.click()\n",
    "                zapisz = browser.find_elements('xpath', \"//button[@name='submitFormButton']\")\n",
    "                zapisz[-1].click()\n",
    "            except NoSuchElementException: pass\n",
    "    browser.get('http://localhost:8000/index.php/test_journal/submissions')\n",
    "    submissions = browser.find_elements('xpath', \"//a[@class = 'pkpButton']\")\n",
    "    submissions = [e for e in submissions if e.get_attribute('href')[-1].isnumeric()]\n",
    "print('Done')"
   ]
  },
  {
   "cell_type": "markdown",
   "id": "b01e9085-b31e-41b7-928f-b27a86a573fa",
   "metadata": {},
   "source": [
    "## OJS -- usuwanie zgłoszeń"
   ]
  },
  {
   "cell_type": "code",
   "execution_count": 551,
   "id": "40f50280-839e-4339-bcb7-52712728a16d",
   "metadata": {},
   "outputs": [],
   "source": [
    "browser.get('http://localhost:8000/index.php/test_journal/submissions#archive')\n",
    "submissions = browser.find_elements('xpath', \"//span[@class = 'fa fa-angle-down']\")"
   ]
  },
  {
   "cell_type": "code",
   "execution_count": 552,
   "id": "9792f9c0-261c-4850-8ba7-d03cff563a36",
   "metadata": {},
   "outputs": [
    {
     "name": "stderr",
     "output_type": "stream",
     "text": [
      "100%|██████████████████████████████████████████████████████████████████████████████████| 10/10 [01:02<00:00,  6.22s/it]"
     ]
    },
    {
     "name": "stdout",
     "output_type": "stream",
     "text": [
      "Done\n"
     ]
    },
    {
     "name": "stderr",
     "output_type": "stream",
     "text": [
      "\n"
     ]
    }
   ],
   "source": [
    "for submission in tqdm(submissions):\n",
    "    try:\n",
    "        time.sleep(1)\n",
    "        submission.click()\n",
    "        delete = browser.find_elements('xpath', \"//button[@class='pkpButton pkpButton--isWarnable']\")[0]\n",
    "        delete.click()\n",
    "        delete_yes = browser.find_elements('xpath', \"//button[@class='pkpButton']\")[-1]\n",
    "        delete_yes.click()\n",
    "    except IndexError: pass\n",
    "# while submissions:\n",
    "#     for submission in tqdm(submissions):\n",
    "#         try:\n",
    "#             time.sleep(1)\n",
    "#             submission.click()\n",
    "#             delete = browser.find_elements('xpath', \"//button[@class='pkpButton pkpButton--isWarnable']\")[0]\n",
    "#             delete.click()\n",
    "#             delete_yes = browser.find_elements('xpath', \"//button[@class='pkpButton']\")[-1]\n",
    "#             delete_yes.click()\n",
    "#         except IndexError: pass\n",
    "#     browser.get(\"http://localhost:8000/index.php/test_journal/manageIssues\")\n",
    "#     browser.get('http://localhost:8000/index.php/test_journal/submissions#archive')\n",
    "#     submissions = browser.find_elements('xpath', \"//span[@class = 'fa fa-angle-down']\")\n",
    "print('Done')"
   ]
  },
  {
   "cell_type": "markdown",
   "id": "2d70b33c-3b38-43b2-acdb-48f635c2a2a1",
   "metadata": {},
   "source": [
    "## OJS -- odrzucanie opublikowanych artykułów"
   ]
  },
  {
   "cell_type": "code",
   "execution_count": 553,
   "id": "2b247901-c573-4394-bb4e-9c38a81f7a4e",
   "metadata": {},
   "outputs": [],
   "source": [
    "browser.get('http://localhost:8000/index.php/test_journal/submissions#archive')\n",
    "submissions = browser.find_elements('xpath', \"//a[@class = 'pkpButton']\")\n",
    "submissions = [e for e in submissions if e.get_attribute('href')[-1].isnumeric()]"
   ]
  },
  {
   "cell_type": "code",
   "execution_count": 554,
   "id": "b5534e4b-31d4-4d0f-8d45-3686f5dfdb60",
   "metadata": {},
   "outputs": [
    {
     "name": "stderr",
     "output_type": "stream",
     "text": [
      "100%|██████████████████████████████████████████████████████████████████████████████████| 10/10 [01:29<00:00,  8.92s/it]\n"
     ]
    },
    {
     "name": "stdout",
     "output_type": "stream",
     "text": [
      "Done\n"
     ]
    }
   ],
   "source": [
    "while submissions:\n",
    "    submission_urls = []\n",
    "    for submission in submissions:\n",
    "        submission_urls.append(submission.get_attribute('href'))\n",
    "    for url in tqdm(submission_urls):\n",
    "        browser.get(url)\n",
    "        time.sleep(1)\n",
    "        schedule_for_publication = browser.find_element('xpath', \"//button[@class='pkpButton pkpButton--isPrimary']\")\n",
    "        schedule_for_publication.click()\n",
    "        unpublish = browser.find_element('xpath', \"//button[@class='pkpButton pkpButton--isWarnable']\")\n",
    "        unpublish.click()\n",
    "        unpublish = browser.find_elements('xpath', \"//button[@class='pkpButton']\")[-1]\n",
    "        unpublish.click()\n",
    "        time.sleep(1)\n",
    "        workflow = browser.find_element('xpath', \"//button[@id='workflow-button']\")\n",
    "        workflow.click()\n",
    "        submission_button = browser.find_element('xpath', \"//a[@id='ui-id-1']\")\n",
    "        submission_button.click()\n",
    "        time.sleep(1)\n",
    "        assign = browser.find_element('xpath', \"//a[@class='pkp_controllers_linkAction pkp_linkaction_requestAccount pkp_linkaction_icon_add_user']\")\n",
    "        assign.click()\n",
    "        user = browser.find_element('xpath', \"//input[@id='user_1']\")\n",
    "        user.click()\n",
    "        zapisz = browser.find_elements('xpath', \"//button[@name='submitFormButton']\")\n",
    "        zapisz[-1].click()\n",
    "        time.sleep(2)\n",
    "        change_decision = browser.find_element('xpath', \"//button[@class='pkp_workflow_change_decision']\")\n",
    "        change_decision.click()\n",
    "        \n",
    "        decline = browser.find_element('xpath', \"//a[contains(text(),'Decline Submission')]\")\n",
    "        decline.click()\n",
    "        skip_email = browser.find_element('xpath', \"//input[@name='skipEmail' and @value='1']\")\n",
    "        skip_email.click()\n",
    "        zapisz = browser.find_elements('xpath', \"//button[@name='submitFormButton']\")\n",
    "        zapisz[-1].click()\n",
    "    browser.get('http://localhost:8000/index.php/test_journal/submissions')\n",
    "    submissions = browser.find_elements('xpath', \"//a[@class = 'pkpButton']\")\n",
    "    submissions = [e for e in submissions if e.get_attribute('href')[-1].isnumeric()]\n",
    "print('Done')"
   ]
  },
  {
   "cell_type": "markdown",
   "id": "5adaf46e-6c5e-48b7-a3fe-6a1f6f8fc3ff",
   "metadata": {},
   "source": [
    "## OJS -- usuwanie artykułów"
   ]
  },
  {
   "cell_type": "code",
   "execution_count": 555,
   "id": "6af788ec-e2c8-43fe-9ba2-28d55f334777",
   "metadata": {},
   "outputs": [],
   "source": [
    "browser.get('http://localhost:8000/index.php/test_journal/submissions#archive')\n",
    "submissions = browser.find_elements('xpath', \"//span[@class = 'fa fa-angle-down']\")"
   ]
  },
  {
   "cell_type": "code",
   "execution_count": 556,
   "id": "fe0059af-9ec2-4b46-a267-90b019e949f1",
   "metadata": {},
   "outputs": [
    {
     "name": "stderr",
     "output_type": "stream",
     "text": [
      "100%|██████████████████████████████████████████████████████████████████████████████████| 10/10 [00:16<00:00,  1.64s/it]"
     ]
    },
    {
     "name": "stdout",
     "output_type": "stream",
     "text": [
      "Done\n"
     ]
    },
    {
     "name": "stderr",
     "output_type": "stream",
     "text": [
      "\n"
     ]
    }
   ],
   "source": [
    "for submission in tqdm(submissions):\n",
    "    try:\n",
    "        time.sleep(1)\n",
    "        submission.click()\n",
    "        delete = browser.find_elements('xpath', \"//button[@class='pkpButton pkpButton--isWarnable']\")[0]\n",
    "        delete.click()\n",
    "        delete_yes = browser.find_elements('xpath', \"//button[@class='pkpButton']\")[-1]\n",
    "        delete_yes.click()\n",
    "    except IndexError: pass\n",
    "print('Done')"
   ]
  },
  {
   "cell_type": "markdown",
   "id": "b6096f5e-963f-4e70-8738-32a434eda133",
   "metadata": {},
   "source": [
    "## OJS -- usuwanie numerów"
   ]
  },
  {
   "cell_type": "code",
   "execution_count": 557,
   "id": "f1f75df2-4e3b-49b4-b006-18060c02421f",
   "metadata": {},
   "outputs": [
    {
     "name": "stderr",
     "output_type": "stream",
     "text": [
      "100%|████████████████████████████████████████████████████████████████████████████████████| 1/1 [00:03<00:00,  3.63s/it]"
     ]
    },
    {
     "name": "stdout",
     "output_type": "stream",
     "text": [
      "Done\n"
     ]
    },
    {
     "name": "stderr",
     "output_type": "stream",
     "text": [
      "\n"
     ]
    }
   ],
   "source": [
    "browser.get('http://localhost:8000/index.php/test_journal/manageIssues#back')\n",
    "extras = browser.find_elements('xpath', \"//a[@class='show_extras']\")\n",
    "for extra in tqdm(extras):\n",
    "    time.sleep(1)\n",
    "    extra.click()\n",
    "    delete = browser.find_element('xpath', \"//a[contains(text(),'Delete')]\")\n",
    "    time.sleep(1)\n",
    "    delete.click()\n",
    "    delete = browser.find_elements('xpath', \"//button[@class='ok pkpModalConfirmButton']\")[-1]\n",
    "    time.sleep(1)\n",
    "    delete.click()\n",
    "print('Done')"
   ]
  },
  {
   "cell_type": "markdown",
   "id": "56cddc0a-a45f-4f91-8786-777dcd235c88",
   "metadata": {},
   "source": [
    "## Zakończenie pracy"
   ]
  },
  {
   "cell_type": "code",
   "execution_count": 558,
   "id": "97bcd5df-6113-4399-9f00-8520ee4d0d15",
   "metadata": {},
   "outputs": [],
   "source": [
    "browser.get('http://localhost:8000/index.php/test_journal/manageIssues')"
   ]
  },
  {
   "cell_type": "code",
   "execution_count": 559,
   "id": "24e3c281-81b3-4571-8ae6-0ac76b1412af",
   "metadata": {},
   "outputs": [],
   "source": [
    "browser.get('http://localhost:8000/index.php/test_journal/submissions')"
   ]
  },
  {
   "cell_type": "code",
   "execution_count": 560,
   "id": "ecb9db27-e950-4a9f-afac-3b9dfa29a4ac",
   "metadata": {},
   "outputs": [],
   "source": [
    "browser.close()"
   ]
  }
 ],
 "metadata": {
  "kernelspec": {
   "display_name": "Python 3 (ipykernel)",
   "language": "python",
   "name": "python3"
  },
  "language_info": {
   "codemirror_mode": {
    "name": "ipython",
    "version": 3
   },
   "file_extension": ".py",
   "mimetype": "text/x-python",
   "name": "python",
   "nbconvert_exporter": "python",
   "pygments_lexer": "ipython3",
   "version": "3.11.4"
  }
 },
 "nbformat": 4,
 "nbformat_minor": 5
}
